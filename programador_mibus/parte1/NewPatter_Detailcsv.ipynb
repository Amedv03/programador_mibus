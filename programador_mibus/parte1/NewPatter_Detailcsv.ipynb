{
    "cells": [
        {
            "cell_type": "code",
            "execution_count": 1,
            "source": [
                "import pandas as pd\r\n",
                "read_file = pd.read_csv (r'C:\\Users\\amedv\\Onedrive\\Desktop\\Patter_Detail.txt')\r\n",
                "read_file.to_csv (r'C:\\Users\\amedv\\Documents\\pandas\\NewPatter_Detail.csv', index=None)"
            ],
            "outputs": [],
            "metadata": {}
        }
    ],
    "metadata": {
        "orig_nbformat": 4,
        "language_info": {
            "name": "python",
            "version": "3.9.6",
            "mimetype": "text/x-python",
            "codemirror_mode": {
                "name": "ipython",
                "version": 3
            },
            "pygments_lexer": "ipython3",
            "nbconvert_exporter": "python",
            "file_extension": ".py"
        },
        "kernelspec": {
            "name": "python3",
            "display_name": "Python 3.9.6 64-bit"
        },
        "interpreter": {
            "hash": "e4f9779ec5ad74c63b0eca2d8ef991ecf605623a39823d8d0ee0806256e57a93"
        }
    },
    "nbformat": 4,
    "nbformat_minor": 2
}